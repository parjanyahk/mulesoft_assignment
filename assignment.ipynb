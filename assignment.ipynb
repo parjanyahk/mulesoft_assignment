{
  "nbformat": 4,
  "nbformat_minor": 0,
  "metadata": {
    "colab": {
      "name": "assignment.ipynb",
      "provenance": [],
      "collapsed_sections": []
    },
    "kernelspec": {
      "name": "python3",
      "display_name": "Python 3"
    },
    "language_info": {
      "name": "python"
    }
  },
  "cells": [
    {
      "cell_type": "code",
      "execution_count": null,
      "metadata": {
        "id": "88uBr0iXcWbC"
      },
      "outputs": [],
      "source": [
        "import sqlite3"
      ]
    },
    {
      "cell_type": "code",
      "source": [
        "connection = sqlite3.connect('movies.db')"
      ],
      "metadata": {
        "id": "RZPrfrbgcr_y"
      },
      "execution_count": null,
      "outputs": []
    },
    {
      "cell_type": "code",
      "source": [
        "cursor = connection.cursor()"
      ],
      "metadata": {
        "id": "T0fyswpvc0_w"
      },
      "execution_count": null,
      "outputs": []
    },
    {
      "cell_type": "code",
      "source": [
        "cursor.execute('''CREATE TABLE IF NOT EXISTS Movies\n",
        "              (Name TEXT, Actor TEXT, Actress TEXT, \n",
        "              Director TEXT, Year INT)''')"
      ],
      "metadata": {
        "colab": {
          "base_uri": "https://localhost:8080/"
        },
        "id": "vxMO8Yopc3LD",
        "outputId": "7a25d470-cb8d-42a8-b978-776b9e6d9d60"
      },
      "execution_count": null,
      "outputs": [
        {
          "output_type": "execute_result",
          "data": {
            "text/plain": [
              "<sqlite3.Cursor at 0x7f7ba9f3ba40>"
            ]
          },
          "metadata": {},
          "execution_count": 4
        }
      ]
    },
    {
      "cell_type": "code",
      "source": [
        "cursor.execute('''INSERT INTO Movies VALUES ('Pretty Woman', 'Richard Gere', 'Julia Roberts', 'Garry Marshall', 1990)''')\n",
        "cursor.execute('''INSERT INTO Movies VALUES ('Captain America', 'Chris Evans', 'Scarlett Johansson', 'Joe Johnston', 2011)''')\n",
        "cursor.execute('''INSERT INTO Movies VALUES ('Pirates of the Carribean', 'Johnny Depp', 'Keira Knightley', 'Gore Verbinski', 2003)''')\n",
        "cursor.execute('''INSERT INTO Movies VALUES ('Willy Wonka', 'Johnny Depp', 'Helena Bohnam Carter', 'Tim Burton', 2005)''')"
      ],
      "metadata": {
        "colab": {
          "base_uri": "https://localhost:8080/"
        },
        "id": "cp7c_Ab7dN0v",
        "outputId": "3de090f4-47fb-489a-ef69-8e8745a5ed84"
      },
      "execution_count": null,
      "outputs": [
        {
          "output_type": "execute_result",
          "data": {
            "text/plain": [
              "<sqlite3.Cursor at 0x7f7ba9f3ba40>"
            ]
          },
          "metadata": {},
          "execution_count": 5
        }
      ]
    },
    {
      "cell_type": "code",
      "source": [
        "connection.commit()"
      ],
      "metadata": {
        "id": "7LZF7wF-dxKt"
      },
      "execution_count": null,
      "outputs": []
    },
    {
      "cell_type": "code",
      "source": [
        "cursor.execute('''SELECT * FROM Movies''')\n",
        "records = cursor.fetchall()\n",
        "\n",
        "for row in records:\n",
        "  print(\"Name:\" + row[0])\n",
        "  print(\"Actor:\" +row[1])\n",
        "  print(\"Actress:\" +row[2])\n",
        "  print(\"Director:\" +row[3])\n",
        "  print(\"Year:\", row[4])\n",
        "  print()"
      ],
      "metadata": {
        "colab": {
          "base_uri": "https://localhost:8080/"
        },
        "id": "RT-LJgl0d1yi",
        "outputId": "70497a21-7351-4a50-b3ea-969f7a2b76ed"
      },
      "execution_count": null,
      "outputs": [
        {
          "output_type": "stream",
          "name": "stdout",
          "text": [
            "Name:Pretty Woman\n",
            "Actor:Richard Gere\n",
            "Actress:Julia Roberts\n",
            "Director:Garry Marshall\n",
            "Year: 1990\n",
            "\n",
            "Name:Captain America\n",
            "Actor:Chris Evans\n",
            "Actress:Scarlett Johansson\n",
            "Director:Joe Johnston\n",
            "Year: 2011\n",
            "\n",
            "Name:Pirates of the Carribean\n",
            "Actor:Johnny Depp\n",
            "Actress:Keira Knightley\n",
            "Director:Gore Verbinski\n",
            "Year: 2003\n",
            "\n",
            "Name:Willy Wonka\n",
            "Actor:Johnny Depp\n",
            "Actress:Helena Bohnam Carter\n",
            "Director:Tim Burton\n",
            "Year: 2005\n",
            "\n"
          ]
        }
      ]
    },
    {
      "cell_type": "code",
      "source": [
        "cursor.execute('''SELECT * FROM Movies WHERE Actor = \"Johnny Depp\"''')\n",
        "records = cursor.fetchall()\n",
        "\n",
        "for row in records:\n",
        "  print(\"Name:\" + row[0])\n",
        "  print(\"Actor:\" +row[1])\n",
        "  print(\"Actress:\" +row[2])\n",
        "  print(\"Director:\" +row[3])\n",
        "  print(\"Year:\", row[4])\n",
        "  print()"
      ],
      "metadata": {
        "colab": {
          "base_uri": "https://localhost:8080/"
        },
        "id": "pHV1jTnKeYt6",
        "outputId": "7076827f-149e-474e-8621-3ee54fb466de"
      },
      "execution_count": null,
      "outputs": [
        {
          "output_type": "stream",
          "name": "stdout",
          "text": [
            "Name:Pirates of the Carribean\n",
            "Actor:Johnny Depp\n",
            "Actress:Keira Knightley\n",
            "Director:Gore Verbinski\n",
            "Year: 2003\n",
            "\n",
            "Name:Willy Wonka\n",
            "Actor:Johnny Depp\n",
            "Actress:Helena Bohnam Carter\n",
            "Director:Tim Burton\n",
            "Year: 2005\n",
            "\n"
          ]
        }
      ]
    },
    {
      "cell_type": "code",
      "source": [
        "connection.commit()"
      ],
      "metadata": {
        "id": "MGog92BwBbGz"
      },
      "execution_count": null,
      "outputs": []
    },
    {
      "cell_type": "code",
      "source": [
        "cursor.close()"
      ],
      "metadata": {
        "id": "f83MpUBAeU1P"
      },
      "execution_count": null,
      "outputs": []
    }
  ]
}